{
 "cells": [
  {
   "cell_type": "markdown",
   "id": "established-acoustic",
   "metadata": {},
   "source": [
    "# Import the packages"
   ]
  },
  {
   "cell_type": "code",
   "execution_count": 1,
   "id": "bored-flour",
   "metadata": {},
   "outputs": [],
   "source": [
    "import pandas as pd\n",
    "import requests\n",
    "from bs4 import BeautifulSoup as bs"
   ]
  },
  {
   "cell_type": "markdown",
   "id": "juvenile-equality",
   "metadata": {},
   "source": [
    "# Get article soup"
   ]
  },
  {
   "cell_type": "code",
   "execution_count": 2,
   "id": "respected-cookbook",
   "metadata": {},
   "outputs": [],
   "source": [
    "url = \"https://edition.cnn.com/2022/05/07/asia/sri-lanka-president-rajapaksa-state-of-emergency-hnk-intl/index.html\"\n",
    "response = requests.get(url)\n",
    "soup = bs(response.content, 'html.parser')"
   ]
  },
  {
   "cell_type": "markdown",
   "id": "freelance-nomination",
   "metadata": {},
   "source": [
    "# Get title"
   ]
  },
  {
   "cell_type": "code",
   "execution_count": 3,
   "id": "welcome-orbit",
   "metadata": {},
   "outputs": [],
   "source": [
    "title = str(soup.findAll('title')[0])\n",
    "title = title.replace('<title>', '')\n",
    "title = title.replace('</title>', '')"
   ]
  },
  {
   "cell_type": "markdown",
   "id": "anticipated-lightning",
   "metadata": {},
   "source": [
    "# Get first paragraph"
   ]
  },
  {
   "cell_type": "code",
   "execution_count": 4,
   "id": "weighted-pantyhose",
   "metadata": {},
   "outputs": [],
   "source": [
    "first_paragraph = str(soup.findAll(\"div\", attrs = {\"class\", \"el__leafmedia el__leafmedia--sourced-paragraph\"}))\n",
    "start = first_paragraph.find('class=\"el-editorial-source\">') + len('class=\"el-editorial-source\">')\n",
    "stop = first_paragraph.find(' </p></div>]')\n",
    "stripped = first_paragraph[start:stop]\n",
    "clean_strip = stripped.replace('</cite>', '-')\n",
    "\n",
    "while '<a' in clean_strip:\n",
    "    start = clean_strip.find('<a')\n",
    "    stop = clean_strip.find('</a') + len('</a') + 1\n",
    "    replace_this = clean_strip[start:stop]\n",
    "    start_2 = replace_this.find('target=\"_blank\">') + len('target=\"_blank\">')\n",
    "    stop_2 = replace_this.find('</a>')\n",
    "    link_text = replace_this[start_2:stop_2] \n",
    "    clean_strip = clean_strip.replace(replace_this, link_text)\n",
    "    \n",
    "first_paragraph = clean_strip"
   ]
  },
  {
   "cell_type": "markdown",
   "id": "level-kennedy",
   "metadata": {},
   "source": [
    "# Get remaining paragraphs"
   ]
  },
  {
   "cell_type": "code",
   "execution_count": 5,
   "id": "bottom-syndication",
   "metadata": {},
   "outputs": [],
   "source": [
    "remaining_paragraphs = []\n",
    "\n",
    "k = 0\n",
    "\n",
    "for x in soup.findAll(\"div\", attrs = {\"class\", \"zn-body__paragraph\"}):\n",
    "    paragraph = str(soup.findAll(\"div\", attrs = {\"class\", \"zn-body__paragraph\"})[k])\n",
    "    start = paragraph.find('\">') + len('\">')\n",
    "    stop = paragraph.find('</div>')\n",
    "    clean_paragraph = paragraph[start:stop]\n",
    "    remaining_paragraphs.append(clean_paragraph)\n",
    "\n",
    "    k += 1\n",
    "    \n",
    "k = 0\n",
    "\n",
    "for x in remaining_paragraphs:\n",
    "    if '<a' in remaining_paragraphs[k]:\n",
    "        start = remaining_paragraphs[k].find('<a')\n",
    "        stop = remaining_paragraphs[k].find('</a') + len('</a') + 1\n",
    "        replace_this = remaining_paragraphs[k][start:stop]\n",
    "        start_2 = remaining_paragraphs[k].find('target=\"_blank\">') + len('target=\"_blank\">')\n",
    "        stop_2 = remaining_paragraphs[k].find('</a>')\n",
    "        link_text = remaining_paragraphs[k][start_2:stop_2] \n",
    "        remaining_paragraphs[k] = remaining_paragraphs[k].replace(replace_this, link_text)\n",
    "        \n",
    "    k += 1"
   ]
  },
  {
   "cell_type": "markdown",
   "id": "minimal-treatment",
   "metadata": {},
   "source": [
    "# Put it all together"
   ]
  },
  {
   "cell_type": "code",
   "execution_count": 6,
   "id": "peaceful-kelly",
   "metadata": {},
   "outputs": [
    {
     "name": "stdout",
     "output_type": "stream",
     "text": [
      "TITLE:  Sri Lanka president declares new state of emergency as protests roil island - CNN\n",
      "\n",
      "\n",
      " (CNN)-Sri Lanka's President Gotabaya Rajapaksa declared a state of emergency on Friday, after prolonged protests and a general strike shuttered schools, businesses, and transport services.\n",
      "\n",
      "The state of emergency will allow for the arrest of protesters blocking roads. The measure must be approved by Sri Lanka's parliament within 14 days.\n",
      "\n",
      "The country has been rocked by civil unrest since March, with protests at times turning violent as anger builds over the government's apparent mishandling of the country's economic crisis.\n",
      "\n",
      "\n",
      "\n",
      "On Friday, police fired tear gas at protesters near the country's parliament in the national capital of Colombo.\n",
      "\n",
      "The state of emergency drew criticism from some, with opposition leader Sajith Premadasa saying the measure \"runs counter to seeking any solution to the crisis.\"\n",
      "\n",
      "Rajapaksa previously declared a state of emergency on April 1, but rolled it back after five days.\n",
      "\n",
      "Protesters have demanded Rajapaksa's resignation, frustrated by skyrocketing prices for food, fuel and other necessities as the government runs out of money. Many have been forced to spend hours in the searing heat to fill their tanks at gas stations, or to receive supplies of food and medicine. \n",
      "\n",
      "This week Sri Lanka's Finance Minister Ali Sabry admitted the country's financial reserves are close to empty. The country has appealed to the International Monetary Fund for emergency financing.\n",
      "\n"
     ]
    }
   ],
   "source": [
    "all_paragraphs = []\n",
    "\n",
    "all_paragraphs.append(first_paragraph)\n",
    "\n",
    "for x in remaining_paragraphs:\n",
    "    all_paragraphs.append(x)\n",
    "    \n",
    "print('TITLE: ', title)\n",
    "print()\n",
    "print()\n",
    "\n",
    "for x in all_paragraphs:\n",
    "    print(x)\n",
    "    print()"
   ]
  }
 ],
 "metadata": {
  "kernelspec": {
   "display_name": "Python 3",
   "language": "python",
   "name": "python3"
  },
  "language_info": {
   "codemirror_mode": {
    "name": "ipython",
    "version": 3
   },
   "file_extension": ".py",
   "mimetype": "text/x-python",
   "name": "python",
   "nbconvert_exporter": "python",
   "pygments_lexer": "ipython3",
   "version": "3.8.10"
  }
 },
 "nbformat": 4,
 "nbformat_minor": 5
}
