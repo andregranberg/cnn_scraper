{
 "cells": [
  {
   "cell_type": "markdown",
   "id": "fixed-timber",
   "metadata": {},
   "source": [
    "# Import the packages"
   ]
  },
  {
   "cell_type": "code",
   "execution_count": 1,
   "id": "loaded-teach",
   "metadata": {},
   "outputs": [],
   "source": [
    "import pandas as pd\n",
    "import requests\n",
    "from bs4 import BeautifulSoup as bs"
   ]
  },
  {
   "cell_type": "markdown",
   "id": "maritime-province",
   "metadata": {},
   "source": [
    "# Get article soup"
   ]
  },
  {
   "cell_type": "code",
   "execution_count": 2,
   "id": "respected-cookbook",
   "metadata": {},
   "outputs": [],
   "source": [
    "url = \"https://edition.cnn.com/2022/05/06/politics/white-house-intelligence-sharing-ukraine-red-line-russia/index.html\"\n",
    "response = requests.get(url)\n",
    "soup = bs(response.content, 'html.parser')"
   ]
  },
  {
   "cell_type": "markdown",
   "id": "qualified-cleveland",
   "metadata": {},
   "source": [
    "# Get title"
   ]
  },
  {
   "cell_type": "code",
   "execution_count": 3,
   "id": "sticky-demand",
   "metadata": {},
   "outputs": [],
   "source": [
    "title = str(soup.findAll('title')[0])\n",
    "title = title.replace('<title>', '')\n",
    "title = title.replace('</title>', '')"
   ]
  },
  {
   "cell_type": "markdown",
   "id": "prerequisite-evanescence",
   "metadata": {},
   "source": [
    "# Get first paragraph"
   ]
  },
  {
   "cell_type": "code",
   "execution_count": 4,
   "id": "acting-mortgage",
   "metadata": {},
   "outputs": [],
   "source": [
    "first_paragraph = str(soup.findAll(\"div\", attrs = {\"class\", \"el__leafmedia el__leafmedia--sourced-paragraph\"}))\n",
    "start = first_paragraph.find('class=\"el-editorial-source\">') + len('class=\"el-editorial-source\">')\n",
    "stop = first_paragraph.find(' </p></div>]')\n",
    "stripped = first_paragraph[start:stop]\n",
    "clean_strip = stripped.replace('</cite>', '-')\n",
    "\n",
    "while '<a' in clean_strip:\n",
    "    start = clean_strip.find('<a')\n",
    "    stop = clean_strip.find('</a') + len('</a') + 1\n",
    "    replace_this = clean_strip[start:stop]\n",
    "    start_2 = replace_this.find('target=\"_blank\">') + len('target=\"_blank\">')\n",
    "    stop_2 = replace_this.find('</a>')\n",
    "    link_text = replace_this[start_2:stop_2] \n",
    "    clean_strip = clean_strip.replace(replace_this, link_text)\n",
    "    \n",
    "first_paragraph = clean_strip"
   ]
  },
  {
   "cell_type": "markdown",
   "id": "gorgeous-pakistan",
   "metadata": {},
   "source": [
    "# Get remaining paragraphs"
   ]
  },
  {
   "cell_type": "code",
   "execution_count": 5,
   "id": "union-trigger",
   "metadata": {},
   "outputs": [],
   "source": [
    "remaining_paragraphs = []\n",
    "\n",
    "k = 0\n",
    "\n",
    "for x in soup.findAll(\"div\", attrs = {\"class\", \"zn-body__paragraph\"}):\n",
    "    paragraph = str(soup.findAll(\"div\", attrs = {\"class\", \"zn-body__paragraph\"})[k])\n",
    "    start = paragraph.find('\">') + len('\">')\n",
    "    stop = paragraph.find('</div>')\n",
    "    clean_paragraph = paragraph[start:stop]\n",
    "    remaining_paragraphs.append(clean_paragraph)\n",
    "\n",
    "    k += 1\n",
    "    \n",
    "k = 0\n",
    "\n",
    "for x in remaining_paragraphs:\n",
    "    if '<a' in remaining_paragraphs[k]:\n",
    "        start = remaining_paragraphs[k].find('<a')\n",
    "        stop = remaining_paragraphs[k].find('</a') + len('</a') + 1\n",
    "        replace_this = remaining_paragraphs[k][start:stop]\n",
    "        start_2 = remaining_paragraphs[k].find('target=\"_blank\">') + len('target=\"_blank\">')\n",
    "        stop_2 = remaining_paragraphs[k].find('</a>')\n",
    "        link_text = remaining_paragraphs[k][start_2:stop_2] \n",
    "        remaining_paragraphs[k] = remaining_paragraphs[k].replace(replace_this, link_text)\n",
    "        \n",
    "    k += 1"
   ]
  },
  {
   "cell_type": "markdown",
   "id": "sound-constant",
   "metadata": {},
   "source": [
    "# Put it all together"
   ]
  },
  {
   "cell_type": "code",
   "execution_count": 6,
   "id": "accompanied-familiar",
   "metadata": {},
   "outputs": [
    {
     "name": "stdout",
     "output_type": "stream",
     "text": [
      "TITLE:  White House walks a fine line with intelligence sharing in Ukraine - CNNPolitics\n",
      "\n",
      "\n",
      "Washington (CNN)-Two months into Russia's war in Ukraine, the Biden administration has increased the amount of intelligence it shares with Kyiv, contributing to successful strikes against senior Russian leaders and the Russian Navy's flagship, the Moskva, sources familiar with the intelligence sharing tell CNN.\n",
      "\n",
      "But the effort raises questions about how far the White House is willing to go to help Ukraine fight the Russians while also trying to avoid provoking Moscow and getting drawn into the conflict. \n",
      "\n",
      "Administration officials insist there are clear limits on the intelligence it shares with Ukraine, including a ban against providing precision targeting intelligence for senior Russian leaders by name, part of a White House effort to avoid crossing a line that Moscow may view as too escalatory. \n",
      "\n",
      "Yet some current and former officials have suggested that the limits the Biden administration have drawn are arbitrary, in part because the end result is the same -- Ukrainian strikes that kill senior Russian leaders. On top of that, any US assessment of what actions might provoke Moscow depends on the thinking of just one man, Russian President Vladimir Putin. \n",
      "\n",
      "\"You're trying to put on your Vladimir Putin hat and try to see, what does he see as crossing a red line?\" said retired Lt. Gen. Robert Ashley, a former head of the Defense Intelligence Agency. \"That red line is one that probably exists only in Putin's head -- and it may not be something that he's even thought his way through or conveyed.\" \n",
      "\n",
      "Sources familiar with the administration's approach say the decisions to gradually broaden the intelligence it is willing to share have been primarily based on the judgments of Biden administration officials rather than any changing assessments about how escalatory Russia might view a given action.  \n",
      "\n",
      "They also reflect the evolving reality on the ground in Ukraine. US intelligence-sharing guidelines have been updated in recent weeks, for instance, to help Ukraine conduct offensive operations inside the Donbas region, where Russia has refocused its military efforts after failing to capture Kyiv. \n",
      "\n",
      "\"I wouldn't describe any line as thin or imaginary,\" Pentagon press secretary John Kirby told CNN's Briana Keilar on \"New Day\" Friday. \"The intelligence that we provide to Ukraine is legal, is lawful. It's legitimate and it's limited. And we're very careful about what we share and when we share it.\" \n",
      "\n",
      "The Biden administration has also provided billions of dollars in weapons and has publicly acknowledged it is giving tactical intelligence to the Ukrainians. But as the war has continued and Ukraine has taken out <a href=\"https://www.cnn.com/2022/03/21/politics/us-russia-top-military-commander-ukraine-war/index.html\" target=\"_blank\">numerous high-profile targets</a>, the White House has sought to carefully calibrate how it describes the impacts that intelligence has on the battlefield.  \n",
      "\n",
      "To some former officials, it's a distinction without a difference.  \n",
      "\n",
      "\"Everybody knows we're providing intelligence sharing. We're providing intelligence on targeting for artillery, for other systems that the Ukrainians are using, and so I don't see this in any way as some kind of escalation in the relationship,\" former Defense Secretary and former CIA Director Leon Panetta told CNN's Victor Blackwell on Friday. \"I see it, basically, as maintaining the relationship that we established at the beginning of this war.\" \n",
      "\n",
      "Panetta added: \"We're obviously providing the missile systems, we're providing the artillery, we're providing the Stingers and the other weapons that are being provided, but it's the Ukrainians who decide how to use it and what targets to fire at. And that, very frankly, is what war is all about.\" \n",
      "\n",
      " \n",
      "\n",
      "So far, Russia has not taken any known direct action against the United States or NATO in response to ongoing military and intelligence support.  \n",
      "\n",
      "US officials have been left to speculate why Moscow has held back, particularly when it comes to cyberattacks, which the US warned ahead of the war that Russia might use as retribution for US assistance. Russia has also not moved to strike Kyiv during the visits of a host of senior American leaders, from House Speaker Nancy Pelosi to Secretary of State Antony Blinken.   \n",
      "\n",
      "And it certainly has not attempted to strike arms shipments flowing through Poland, a NATO nation. Only recently has Russia begun targeting railways inside Ukraine believed to be carrying Western arms to the fight.  \n",
      "\n",
      "Some current and former Western officials suggest that the Kremlin might be just as wary of escalation as the White House -- and deeply aware that at least when it comes to conventional military power, the US has Moscow at a distinct disadvantage.   \n",
      "\n",
      "Russia may be holding back on cyberattacks for several reasons, sources say. It may be concerned that the US will retaliate with a cyberattack of its own, introducing yet another element of chaos to a military operation that is already disorganized and messy. Russia may also be keeping its powder dry in the event it comes into direct conflict with the US or NATO.  \n",
      "\n",
      "Some officials believe that sheer incompetence on the part of Russia may also be to blame.  \n",
      "\n",
      "\"You don't know whether it's Russian inefficiency or Russian hesitancy about NATO,\" said retired Gen. Wesley Clark, a CNN military analyst and former NATO supreme allied commander. \"They know if NATO were really to get involved, this thing would be over in short order except for the resource to nuclear weapons.\" \n",
      "\n",
      "Russian government cyber teams had no advance notice of the war, according to one source familiar with Western intelligence. And with Western cybersecurity defenses high in anticipation of a possible attack, it's also possible Russian cyberattacks are failing.  \n",
      "\n",
      "Despite the wide-ranging intelligence the Biden administration has shared with Ukraine, including intercepted communications and information about Russian troop movements, some Republican lawmakers have accused the White House of not doing enough.\n",
      "\n",
      "\"A few weeks ago, the criticism we were getting is, 'Well, you're not giving them enough intelligence, it's too slow, it's not relevant enough,'\" Kirby said Friday on CNN. \"So we have continued to provide them intelligence and information and we're going to continue to do that going forward.\" \n",
      "\n"
     ]
    }
   ],
   "source": [
    "all_paragraphs = []\n",
    "\n",
    "all_paragraphs.append(first_paragraph)\n",
    "\n",
    "for x in remaining_paragraphs:\n",
    "    all_paragraphs.append(x)\n",
    "    \n",
    "print('TITLE: ', title)\n",
    "print()\n",
    "print()\n",
    "\n",
    "for x in all_paragraphs:\n",
    "    print(x)\n",
    "    print()"
   ]
  }
 ],
 "metadata": {
  "kernelspec": {
   "display_name": "Python 3",
   "language": "python",
   "name": "python3"
  },
  "language_info": {
   "codemirror_mode": {
    "name": "ipython",
    "version": 3
   },
   "file_extension": ".py",
   "mimetype": "text/x-python",
   "name": "python",
   "nbconvert_exporter": "python",
   "pygments_lexer": "ipython3",
   "version": "3.8.10"
  }
 },
 "nbformat": 4,
 "nbformat_minor": 5
}
